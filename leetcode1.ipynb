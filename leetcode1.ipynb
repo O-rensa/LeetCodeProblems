{
 "cells": [
  {
   "cell_type": "markdown",
   "metadata": {},
   "source": [
    "# Leet Code Problems\n",
    "## Array / String"
   ]
  },
  {
   "cell_type": "markdown",
   "metadata": {},
   "source": [
    "You are given two integer arrays nums1 and nums2, sorted in non-decreasing order, and two integers m and n, representing the number of elements in nums1 and nums2 respectively.\n",
    "\n",
    "Merge nums1 and nums2 into a single array sorted in non-decreasing order.\n",
    "\n",
    "The final sorted array should not be returned by the function, but instead be stored inside the array nums1. To accommodate this, nums1 has a length of m + n, where the first m elements denote the elements that should be merged, and the last n elements are set to 0 and should be ignored. nums2 has a length of n.\n",
    "\n",
    " \n",
    "\n",
    "Example 1:\n",
    "\n",
    "Input: nums1 = [1,2,3,0,0,0], m = 3, nums2 = [2,5,6], n = 3\n",
    "\n",
    "Output: [1,2,2,3,5,6]\n",
    "\n",
    "Explanation: The arrays we are merging are [1,2,3] and [2,5,6].\n",
    "The result of the merge is [1,2,2,3,5,6] with the underlined elements coming from nums1.\n",
    "\n",
    "\n",
    "Example 2:\n",
    "\n",
    "Input: nums1 = [1], m = 1, nums2 = [], n = 0\n",
    "\n",
    "Output: [1]\n",
    "\n",
    "Explanation: The arrays we are merging are [1] and [].\n",
    "The result of the merge is [1].\n",
    "\n",
    "\n",
    "Example 3:\n",
    "\n",
    "Input: nums1 = [0], m = 0, nums2 = [1], n = 1\n",
    "\n",
    "Output: [1]\n",
    "\n",
    "Explanation: The arrays we are merging are [] and [1].\n",
    "The result of the merge is [1].\n",
    "Note that because m = 0, there are no elements in nums1. The 0 is only there to ensure the merge result can fit in nums1.\n",
    " \n",
    "\n",
    "Constraints:\n",
    "\n",
    "\n",
    "nums1.length == m + n\n",
    "\n",
    "nums2.length == n\n",
    "\n",
    "0 <= m, n <= 200\n",
    "\n",
    "1 <= m + n <= 200\n",
    "\n",
    "-109 <= nums1[i], nums2[j] <= 109"
   ]
  },
  {
   "cell_type": "code",
   "execution_count": 1,
   "metadata": {},
   "outputs": [],
   "source": [
    "class Solution(object):\n",
    "    def merge(self, nums1, m, nums2, n):\n",
    "        nums1_length = (m + n) - 1 \n",
    "        # nums index\n",
    "        i = m - 1\n",
    "        #n nums2 index\n",
    "        j = n - 1\n",
    "\n",
    "        while j != -1:\n",
    "            if i != -1 and (nums1[i] > nums2[j]):\n",
    "                nums1[nums1_length] = nums1[i]\n",
    "                i = i - 1\n",
    "            else:\n",
    "                nums1[nums1_length] = nums2[j]\n",
    "                j = j - 1\n",
    "            nums1_length = nums1_length - 1\n",
    "\n",
    "        return nums1"
   ]
  },
  {
   "cell_type": "code",
   "execution_count": 2,
   "metadata": {},
   "outputs": [
    {
     "name": "stdout",
     "output_type": "stream",
     "text": [
      "[1, 2, 2, 3, 5, 6]\n"
     ]
    }
   ],
   "source": [
    "q1_case1 = Solution()\n",
    "print(q1_case1.merge([1,2,3,0,0,0], 3, [2,5,6], 3))\n"
   ]
  },
  {
   "cell_type": "code",
   "execution_count": 3,
   "metadata": {},
   "outputs": [
    {
     "name": "stdout",
     "output_type": "stream",
     "text": [
      "[1]\n"
     ]
    }
   ],
   "source": [
    "q1_case2 = Solution()\n",
    "print(q1_case2.merge([1], 1, [], 0))"
   ]
  },
  {
   "cell_type": "code",
   "execution_count": 4,
   "metadata": {},
   "outputs": [
    {
     "name": "stdout",
     "output_type": "stream",
     "text": [
      "[1]\n"
     ]
    }
   ],
   "source": [
    "q1_case3 = Solution()\n",
    "print(q1_case3.merge([0], 0, [1], 1))"
   ]
  },
  {
   "cell_type": "markdown",
   "metadata": {},
   "source": [
    "Given an integer array nums and an integer val, remove all occurrences of val in nums in-place. The order of the elements may be changed. Then return the number of elements in nums which are not equal to val.\n",
    "\n",
    "Consider the number of elements in nums which are not equal to val be k, to get accepted, you need to do the following things:\n",
    "\n",
    "Change the array nums such that the first k elements of nums contain the elements which are not equal to val. The remaining elements of nums are not important as well as the size of nums.\n",
    "Return k.\n",
    "Custom Judge:\n",
    "\n",
    "The judge will test your solution with the following code:\n",
    "\n",
    "int[] nums = [...]; // Input array\n",
    "\n",
    "int val = ...; // Value to remove\n",
    "\n",
    "int[] expectedNums = [...]; // The expected answer with correct length.\n",
    "                            // It is sorted with no values equaling val.\n",
    "\n",
    "int k = removeElement(nums, val); // Calls your implementation\n",
    "\n",
    "\n",
    "assert k == expectedNums.length;\n",
    "\n",
    "sort(nums, 0, k); // Sort the first k elements of nums\n",
    "\n",
    "for (int i = 0; i < actualLength; i++) {\n",
    "\n",
    "    assert nums[i] == expectedNums[i];\n",
    "\n",
    "}\n",
    "\n",
    "If all assertions pass, then your solution will be accepted.\n",
    "\n",
    " \n",
    "\n",
    "Example 1:\n",
    "\n",
    "Input: nums = [3,2,2,3], val = 3\n",
    "\n",
    "Output: 2, nums = [2,2,_,_]\n",
    "\n",
    "Explanation: Your function should return k = 2, with the first two elements of nums being 2.\n",
    "It does not matter what you leave beyond the returned k (hence they are underscores).\n",
    "\n",
    "\n",
    "Example 2:\n",
    "\n",
    "Input: nums = [0,1,2,2,3,0,4,2], val = 2\n",
    "\n",
    "Output: 5, nums = [0,1,4,0,3,_,_,_]\n",
    "\n",
    "Explanation: Your function should return k = 5, with the first five elements of nums containing 0, 0, 1, 3, and 4.\n",
    "\n",
    "Note that the five elements can be returned in any order.\n",
    "\n",
    "It does not matter what you leave beyond the returned k (hence they are underscores).\n",
    " \n",
    "\n",
    "Constraints:\n",
    "\n",
    "0 <= nums.length <= 100\n",
    "\n",
    "0 <= nums[i] <= 50\n",
    "\n",
    "0 <= val <= 100"
   ]
  },
  {
   "cell_type": "code",
   "execution_count": 5,
   "metadata": {},
   "outputs": [],
   "source": [
    "class Solution(object):\n",
    "\n",
    "    def removeElement(self, nums, val):\n",
    "        nums_length = len(nums)\n",
    "        nums_position = 0\n",
    "        for i in range(0, nums_length):\n",
    "            if nums[i] == val:\n",
    "                nums_length = nums_length - 1\n",
    "            else: \n",
    "                nums[nums_position] = nums[i]\n",
    "                nums_position = nums_position + 1\n",
    "        \n",
    "        return nums_length, nums[0:nums_length]\n"
   ]
  },
  {
   "cell_type": "code",
   "execution_count": 6,
   "metadata": {},
   "outputs": [
    {
     "name": "stdout",
     "output_type": "stream",
     "text": [
      "(2, [2, 2])\n"
     ]
    }
   ],
   "source": [
    "q2_nums1 = [3, 2, 2, 3]\n",
    "q2_val1 = 3\n",
    "\n",
    "q2_case1 = Solution()\n",
    "print(q2_case1.removeElement(q2_nums1, q2_val1))"
   ]
  },
  {
   "cell_type": "code",
   "execution_count": 7,
   "metadata": {},
   "outputs": [
    {
     "name": "stdout",
     "output_type": "stream",
     "text": [
      "(5, [0, 1, 3, 0, 4])\n"
     ]
    }
   ],
   "source": [
    "q2_nums2 = [0,1,2,2,3,0,4,2]\n",
    "q2_val2 = 2\n",
    "\n",
    "q2_case2 = Solution()\n",
    "print(q2_case1.removeElement(q2_nums2, q2_val2))"
   ]
  },
  {
   "cell_type": "markdown",
   "metadata": {},
   "source": [
    "Given an integer array nums sorted in non-decreasing order, remove the duplicates in-place such that each unique element appears only once. The relative order of the elements should be kept the same. Then return the number of unique elements in nums.\n",
    "\n",
    "Consider the number of unique elements of nums to be k, to get accepted, you need to do the following things:\n",
    "\n",
    "Change the array nums such that the first k elements of nums contain the unique elements in the order they were present in nums initially. The remaining elements of nums are not important as well as the size of nums.\n",
    "Return k.\n",
    "Custom Judge:\n",
    "\n",
    "The judge will test your solution with the following code:\n",
    "\n",
    "int[] nums = [...]; // Input array\n",
    "\n",
    "int[] expectedNums = [...]; // The expected answer with correct length\n",
    "\n",
    "int k = removeDuplicates(nums); // Calls your implementation\n",
    "\n",
    "assert k == expectedNums.length;\n",
    "\n",
    "for (int i = 0; i < k; i++) {\n",
    "\n",
    "    assert nums[i] == expectedNums[i];\n",
    "\n",
    "}\n",
    "\n",
    "If all assertions pass, then your solution will be accepted.\n",
    "\n",
    " \n",
    "\n",
    "Example 1:\n",
    "\n",
    "Input: nums = [1,1,2]\n",
    "\n",
    "Output: 2, nums = [1,2,_]\n",
    "\n",
    "Explanation: Your function should return k = 2, with the first two elements of nums being 1 and 2 respectively.\n",
    "It does not matter what you leave beyond the returned k (hence they are underscores).\n",
    "\n",
    "Example 2:\n",
    "\n",
    "Input: nums = [0,0,1,1,1,2,2,3,3,4]\n",
    "\n",
    "Output: 5, nums = [0,1,2,3,4,_,_,_,_,_]\n",
    "\n",
    "Explanation: Your function should return k = 5, with the first five elements of nums being 0, 1, 2, 3, and 4 respectively.\n",
    "It does not matter what you leave beyond the returned k (hence they are underscores).\n",
    "\n",
    "Constraints:\n",
    "\n",
    "1 <= nums.length <= 3 * 104\n",
    "\n",
    "-100 <= nums[i] <= 100\n",
    "\n",
    "nums is sorted in non-decreasing order."
   ]
  },
  {
   "cell_type": "code",
   "execution_count": 8,
   "metadata": {},
   "outputs": [],
   "source": [
    "class Solution(object):\n",
    "    def removeDuplicates(self, nums):\n",
    "        index = 0\n",
    "        curr_num = min(nums) - 1\n",
    "        i = 0\n",
    "\n",
    "        while i != len(nums):\n",
    "            if nums[i] > curr_num:\n",
    "                nums[index] = nums[i]\n",
    "                curr_num = nums[i]\n",
    "                index += 1\n",
    "            i += 1\n",
    "        \n",
    "        return index"
   ]
  },
  {
   "cell_type": "code",
   "execution_count": 9,
   "metadata": {},
   "outputs": [
    {
     "name": "stdout",
     "output_type": "stream",
     "text": [
      "True\n",
      "True\n"
     ]
    }
   ],
   "source": [
    "c1_nums = [1, 1, 2]\n",
    "c1_expectedNums = [1, 2]\n",
    "c1_k = Solution().removeDuplicates(c1_nums)\n",
    "c1_output = []\n",
    "for i in range(0, c1_k):\n",
    "    c1_output.append(c1_nums[i])\n",
    "print(c1_k == len(c1_expectedNums))\n",
    "print(c1_output == c1_expectedNums)"
   ]
  },
  {
   "cell_type": "code",
   "execution_count": 10,
   "metadata": {},
   "outputs": [
    {
     "name": "stdout",
     "output_type": "stream",
     "text": [
      "True\n",
      "True\n"
     ]
    }
   ],
   "source": [
    "c2_nums = [0,0,1,1,1,2,2,3,3,4]\n",
    "c2_expectedNums = [0,1,2,3,4]\n",
    "c2_k = Solution().removeDuplicates(c2_nums)\n",
    "c2_output = []\n",
    "for i in range(0, c2_k):\n",
    "    c2_output.append(c2_nums[i])\n",
    "print(c2_k == len(c2_expectedNums))\n",
    "print(c2_output == c2_expectedNums)"
   ]
  },
  {
   "cell_type": "markdown",
   "metadata": {},
   "source": [
    "Given an integer array nums sorted in non-decreasing order, remove some duplicates in-place such that each unique element appears at most twice. The relative order of the elements should be kept the same.\n",
    "\n",
    "Since it is impossible to change the length of the array in some languages, you must instead have the result be placed in the first part of the array nums. More formally, if there are k elements after removing the duplicates, then the first k elements of nums should hold the final result. It does not matter what you leave beyond the first k elements.\n",
    "\n",
    "Return k after placing the final result in the first k slots of nums.\n",
    "\n",
    "Do not allocate extra space for another array. You must do this by modifying the input array in-place with O(1) extra memory.\n",
    "\n",
    "Custom Judge:\n",
    "\n",
    "The judge will test your solution with the following code:\n",
    "\n",
    "int[] nums = [...]; // Input array\n",
    "\n",
    "int[] expectedNums = [...]; // The expected answer with correct length\n",
    "\n",
    "int k = removeDuplicates(nums); // Calls your implementation\n",
    "\n",
    "assert k == expectedNums.length;\n",
    "\n",
    "for (int i = 0; i < k; i++) {\n",
    "\n",
    "    assert nums[i] == expectedNums[i];\n",
    "\n",
    "}\n",
    "\n",
    "If all assertions pass, then your solution will be accepted.\n",
    "\n",
    " \n",
    "\n",
    "Example 1:\n",
    "\n",
    "Input: nums = [1,1,1,2,2,3]\n",
    "\n",
    "Output: 5, nums = [1,1,2,2,3,_]\n",
    "\n",
    "Explanation: Your function should return k = 5, with the first five elements of nums being 1, 1, 2, 2 and 3 respectively.\n",
    "It does not matter what you leave beyond the returned k (hence they are underscores).\n",
    "\n",
    "Example 2:\n",
    "\n",
    "Input: nums = [0,0,1,1,1,1,2,3,3]\n",
    "\n",
    "Output: 7, nums = [0,0,1,1,2,3,3,_,_]\n",
    "\n",
    "Explanation: Your function should return k = 7, with the first seven elements of nums being 0, 0, 1, 1, 2, 3 and 3 respectively.\n",
    "It does not matter what you leave beyond the returned k (hence they are underscores).\n",
    " \n",
    "\n",
    "Constraints:\n",
    "\n",
    "1 <= nums.length <= 3 * 104\n",
    "\n",
    "-104 <= nums[i] <= 104\n",
    "\n",
    "nums is sorted in non-decreasing order."
   ]
  },
  {
   "cell_type": "code",
   "execution_count": 11,
   "metadata": {},
   "outputs": [],
   "source": [
    "class Solution(object):\n",
    "    def removeDuplicates(self, nums):\n",
    "        curr_num = min(nums) - 1\n",
    "        is_twice = 1\n",
    "        index = 0\n",
    "        i = 0\n",
    "        \n",
    "        while i < len(nums):\n",
    "            if nums[i] > curr_num:\n",
    "                nums[index] = nums[i]\n",
    "                curr_num = nums[i]\n",
    "                index += 1\n",
    "                is_twice = 0\n",
    "            elif (nums[i] == curr_num and is_twice == 0):\n",
    "                nums[index] = nums[i]\n",
    "                index += 1\n",
    "                is_twice = 1\n",
    "            i += 1\n",
    "        \n",
    "        return index"
   ]
  },
  {
   "cell_type": "code",
   "execution_count": 12,
   "metadata": {},
   "outputs": [
    {
     "name": "stdout",
     "output_type": "stream",
     "text": [
      "True\n",
      "True\n"
     ]
    }
   ],
   "source": [
    "q4_case1_nums = [1,1,1,2,2,3]\n",
    "q4_case1_expectedNums = [1,1,2,2,3]\n",
    "q4_case1_output = []\n",
    "q4_case1 = Solution().removeDuplicates(q4_case1_nums)\n",
    "for i in range(0, len(q4_case1_expectedNums)):\n",
    "    q4_case1_output.append(q4_case1_nums[i])\n",
    "print(q4_case1 == len(q4_case1_expectedNums))\n",
    "print(q4_case1_expectedNums == q4_case1_output)"
   ]
  },
  {
   "cell_type": "code",
   "execution_count": 13,
   "metadata": {},
   "outputs": [
    {
     "name": "stdout",
     "output_type": "stream",
     "text": [
      "True\n",
      "True\n"
     ]
    }
   ],
   "source": [
    "q4_case2_nums = [0,0,1,1,1,1,2,3,3]\n",
    "q4_case2_expectedNums = [0,0,1,1,2,3,3]\n",
    "q4_case2_output = []\n",
    "q4_case2 = Solution().removeDuplicates(q4_case2_nums)\n",
    "for i in range(0, len(q4_case2_expectedNums)):\n",
    "    q4_case2_output.append(q4_case2_nums[i])\n",
    "print(q4_case2 == len(q4_case2_expectedNums))\n",
    "print(q4_case2_expectedNums == q4_case2_output)"
   ]
  },
  {
   "cell_type": "markdown",
   "metadata": {},
   "source": [
    "Given an array nums of size n, return the majority element.\n",
    "\n",
    "The majority element is the element that appears more than ⌊n / 2⌋ times. You may assume that the majority element always exists in the array.\n",
    "\n",
    " \n",
    "\n",
    "Example 1:\n",
    "\n",
    "Input: nums = [3,2,3]\n",
    "\n",
    "Output: 3\n",
    "\n",
    "Example 2:\n",
    "\n",
    "\n",
    "Input: nums = [2,2,1,1,1,2,2]\n",
    "\n",
    "Output: 2\n",
    " \n",
    "\n",
    "Constraints:\n",
    "\n",
    "n == nums.length\n",
    "\n",
    "1 <= n <= 5 * 104\n",
    "\n",
    "-109 <= nums[i] <= 109\n",
    " \n",
    "\n",
    "Follow-up: Could you solve the problem in linear time and in O(1) space?"
   ]
  },
  {
   "cell_type": "code",
   "execution_count": 1,
   "metadata": {},
   "outputs": [],
   "source": [
    "class Solution(object):\n",
    "    def majorityElement(self, nums):\n",
    "        nums = sorted(nums)\n",
    "        max_elem_count = 0\n",
    "        elem_count = 0\n",
    "        elem = min(nums)\n",
    "        k = 0\n",
    "        i = 0\n",
    "        while i < len(nums):\n",
    "            if nums[i] != elem:\n",
    "                elem_count = 1\n",
    "                elem = nums[i]\n",
    "            else:\n",
    "                elem_count += 1\n",
    "            if elem_count > max_elem_count:\n",
    "                max_elem_count = elem_count\n",
    "                k = nums[i]\n",
    "            i += 1\n",
    "        return k"
   ]
  },
  {
   "cell_type": "code",
   "execution_count": 2,
   "metadata": {},
   "outputs": [
    {
     "name": "stdout",
     "output_type": "stream",
     "text": [
      "True\n"
     ]
    }
   ],
   "source": [
    "q5_case1_nums = [3,2,3]\n",
    "q5_case1_expected_output = 3\n",
    "q5_case1 = Solution().majorityElement(q5_case1_nums)\n",
    "print(q5_case1_expected_output == q5_case1)"
   ]
  },
  {
   "cell_type": "code",
   "execution_count": 3,
   "metadata": {},
   "outputs": [
    {
     "name": "stdout",
     "output_type": "stream",
     "text": [
      "True\n"
     ]
    }
   ],
   "source": [
    "q5_case2_nums = [2,2,1,1,1,2,2]\n",
    "q5_case2_expected_output = 2\n",
    "q5_case2 = Solution().majorityElement(q5_case2_nums)\n",
    "print(q5_case2_expected_output == q5_case2)"
   ]
  }
 ],
 "metadata": {
  "kernelspec": {
   "display_name": "Python 3",
   "language": "python",
   "name": "python3"
  },
  "language_info": {
   "codemirror_mode": {
    "name": "ipython",
    "version": 3
   },
   "file_extension": ".py",
   "mimetype": "text/x-python",
   "name": "python",
   "nbconvert_exporter": "python",
   "pygments_lexer": "ipython3",
   "version": "3.12.0"
  }
 },
 "nbformat": 4,
 "nbformat_minor": 2
}
